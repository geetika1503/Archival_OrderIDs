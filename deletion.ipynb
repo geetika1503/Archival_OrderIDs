{
 "cells": [
  {
   "cell_type": "code",
   "execution_count": null,
   "metadata": {},
   "outputs": [],
   "source": [
    "import csv\n",
    "import cassandra\n",
    "import dask\n",
    "import shutil\n",
    "import pandas as pd\n",
    "import numpy as np\n",
    "import time\n",
    "import dask.dataframe as da\n",
    "from cassandra.cluster import Cluster\n",
    "from cassandra.auth import PlainTextAuthProvider\n",
    "\n",
    "auth_provider1 = PlainTextAuthProvider(username='orderhub_test', password='2345/*')\n",
    "primary_kcp_cluster = Cluster(['u060dcxyz'],port = 8142,auth_provider=auth_provider1)  \n",
    "session1 = primary_kcp_cluster.connect('orders')\n",
    "\n",
    "# starting file number\n",
    "files = 1\n",
    "# Max file number\n",
    "end_file = 3\n",
    "\n",
    "\n",
    "try:    \n",
    "    directory= 'apps/python/deletion'\n",
    "       \n",
    "    while(files < end_file):\n",
    "            \n",
    "            df_read_deletefiles= da.read_csv(f'{directory}/comparing/mark_deletion_{files}.csv')\n",
    "            #print(df_read_deletefiles['order_id'])\n",
    "            df_count = df_read_deletefiles['order_id']                      \n",
    "            order_id_todelete = ', '.join(f\"'{delete_id}'\" for delete_id in df_count)\n",
    "            \n",
    "            df_query = \"Delete from orders.kcp_events where order_id in (%s)\"%order_id_todelete\n",
    "            df_query_result = session1.execute(df_query)\n",
    "            print(\"querytime ended: \"+str(time.time()))  \n",
    "\n",
    "       #Removing the files from original path to backup folder\n",
    "            original = f'{directory}/mark_deletion_{files}.csv'\n",
    "            # #print(\"done\")\n",
    "            target = (f'/apps/python/completed/mark_deletion{files}.csv')\n",
    "            shutil.move(original, target)    \n",
    "            print('completed file:', files )\n",
    "            \n",
    "        # Incrementing the file \n",
    "            files+=1                              \n",
    "            print(\"time finished:\" +str(time.time()))\n",
    "\n",
    "except Exception as e:\n",
    "   print(\"No File found for Deletion\")\n",
    "   files += 1 \n"
   ]
  },
  {
   "cell_type": "code",
   "execution_count": null,
   "metadata": {},
   "outputs": [],
   "source": []
  }
 ],
 "metadata": {
  "kernelspec": {
   "display_name": "Python 3",
   "language": "python",
   "name": "python3"
  },
  "language_info": {
   "codemirror_mode": {
    "name": "ipython",
    "version": 3
   },
   "file_extension": ".py",
   "mimetype": "text/x-python",
   "name": "python",
   "nbconvert_exporter": "python",
   "pygments_lexer": "ipython3",
   "version": "3.11.3"
  },
  "orig_nbformat": 4
 },
 "nbformat": 4,
 "nbformat_minor": 2
}
