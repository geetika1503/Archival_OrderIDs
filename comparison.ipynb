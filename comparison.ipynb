{
 "cells": [
  {
   "cell_type": "code",
   "execution_count": null,
   "metadata": {},
   "outputs": [],
   "source": [
    "import csv\n",
    "import pandas as pd\n",
    "import numpy as np\n",
    "import dask.dataframe as da\n",
    "from cassandra.cluster import Cluster\n",
    "from cassandra.auth import PlainTextAuthProvider\n",
    "\n",
    "auth_provider1 = PlainTextAuthProvider(username='orderhub_test', password='2345/*')\n",
    "archival_cluster = Cluster(['u060dcxyz'],port = 8142,auth_provider=auth_provider1)\n",
    "session = archival_cluster.connect('orders')\n",
    "#warnings.filterwarnings(\"ignore\")\n",
    "\n",
    "files = 1\n",
    "end_file = 8\n",
    "directory= 'apps/python-docker/comparing'\n",
    "\n",
    "while (files <= end_file):\n",
    "        \n",
    "    try:\n",
    "        \n",
    "        df_read_backup=da.read_csv(f'{directory}/validating/mark_validation_{files}.csv')\n",
    "        df_read_backup['count'] = df_read_backup['count'].astype(int) \n",
    "               \n",
    "        order_count = list(df_read_backup['count'].astype(int))\n",
    "        order_list = list(df_read_backup['order_id'])                            \n",
    "        order_list1 = ', '.join(f\"'{orderno}'\" for orderno in order_list)        \n",
    "        #print('order_str_list', order_str_list)\n",
    "        \n",
    "        query1 = \"select count(1) as count_db, order_id from orders.kcp_events where order_id in (%s) group by order_id\"%order_list1\n",
    "        #query1 = \"select count(1), order_id from orders.kcp_events where order_id in ('%s')\"%order_str_list\n",
    "        query_result = session.execute(query1)              \n",
    "        df_query_result = pd.DataFrame(query_result)        \n",
    "        df_query_result['order_id'] = df_query_result['order_id'].astype(np.int64)        \n",
    "        df_query_result['count_db'] = df_query_result['count_db'].astype(int)  \n",
    " \n",
    "        df_combine = pd.merge(df_read_backup.compute(), df_query_result, how=\"left\", on=['order_id'])\n",
    "        print(df_combine.head(15))\n",
    "        \n",
    "        df_combine['isValidCount'] = (df_combine['count_db'] == (df_combine['count']))\n",
    "        #print(df_combine.head())\n",
    "        \n",
    "        # #write in csv validation file\n",
    "        df_combine.loc[(df_combine['isValidCount'] == True )][['order_id']]\\\n",
    "            .to_csv(f'{directory}/comparing/mark_deletion_{files}.csv' , index = False)\n",
    "            \n",
    "        ##write non-validation file\n",
    "        df_combine.loc[(df_combine['isValidCount'] == False )]['order_id']\\\n",
    "            .to_csv(f'{directory}/comparing/Not_deletion_{files}.csv' , index = False)\n",
    "      \n",
    "        print('No of completed files:',files) \n",
    "        files += 1\n",
    "\n",
    "\n",
    "    except Exception as e:\n",
    "        print (e) \n",
    "        files += 1\n"
   ]
  },
  {
   "cell_type": "code",
   "execution_count": null,
   "metadata": {},
   "outputs": [],
   "source": []
  }
 ],
 "metadata": {
  "kernelspec": {
   "display_name": "Python 3",
   "language": "python",
   "name": "python3"
  },
  "language_info": {
   "codemirror_mode": {
    "name": "ipython",
    "version": 3
   },
   "file_extension": ".py",
   "mimetype": "text/x-python",
   "name": "python",
   "nbconvert_exporter": "python",
   "pygments_lexer": "ipython3",
   "version": "3.11.3"
  },
  "orig_nbformat": 4
 },
 "nbformat": 4,
 "nbformat_minor": 2
}
