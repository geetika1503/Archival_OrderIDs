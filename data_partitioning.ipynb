{
 "cells": [
  {
   "cell_type": "code",
   "execution_count": null,
   "metadata": {},
   "outputs": [],
   "source": [
    "import csv\n",
    "import time\n",
    "import dask\n",
    "import dask.dataframe as da\n",
    "\n",
    "partitionSize = 100000\n",
    "i = 1\n",
    "max_fileSize = 12\n",
    "\n",
    "while(i <= max_fileSize):\n",
    "    \n",
    "    try:\n",
    "        df = da.read_csv(f'/apps/python-docker/dmpfiles/output-{i}.csv',blocksize = None)  #dmp from primary cluster\n",
    "        print(len(df))                     \n",
    "        ddf=df.set_index('order_id',compute=True)\n",
    "        ddf = df.repartition(npartitions=(len(df)//partitionSize))\n",
    "        ddf.map_partitions(len).compute()  #size (count no of rows in each df)\n",
    "        \n",
    "        def name(num):\n",
    "            num = num+1\n",
    "            return str(num)\n",
    "\n",
    "        Batch_Files = ddf.to_csv(r'/apps/python-docker/partition/backup_data_*.csv', name_function=name)\n",
    "        print(i)\n",
    "        i+=1\n",
    "        \n",
    "    except Exception as e:\n",
    "        i+=1\n",
    "        print(\"Error\")         "
   ]
  },
  {
   "cell_type": "code",
   "execution_count": null,
   "metadata": {},
   "outputs": [],
   "source": []
  }
 ],
 "metadata": {
  "kernelspec": {
   "display_name": "Python 3",
   "language": "python",
   "name": "python3"
  },
  "language_info": {
   "codemirror_mode": {
    "name": "ipython",
    "version": 3
   },
   "file_extension": ".py",
   "mimetype": "text/x-python",
   "name": "python",
   "nbconvert_exporter": "python",
   "pygments_lexer": "ipython3",
   "version": "3.11.3"
  },
  "orig_nbformat": 4
 },
 "nbformat": 4,
 "nbformat_minor": 2
}
